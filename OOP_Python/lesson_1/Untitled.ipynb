{
 "cells": [
  {
   "cell_type": "markdown",
   "id": "cac18396",
   "metadata": {},
   "source": [
    "# Регулярные выражения"
   ]
  },
  {
   "cell_type": "markdown",
   "id": "aa6a410c",
   "metadata": {},
   "source": [
    "Для работы с регулярными выражениями используется модуль \"re\""
   ]
  },
  {
   "cell_type": "code",
   "execution_count": 4,
   "id": "195e1a9a",
   "metadata": {},
   "outputs": [],
   "source": [
    "import re\n",
    "\n",
    "text = \"\"\"\n",
    "    Привет! Отправь, пожалуйста, письмо\n",
    "    нашим коллегам: vladamir@v.ru, vladimir2@v.ru;\n",
    "    про Оксану и Ольгу не забудь: oksana@v.ru,olga@v.ru\n",
    "\n",
    "    отошли копию партнерам: adidas@das.ru &nike@ne.ki\n",
    "\n",
    "    спасибо! @@твой босс\n",
    "\"\"\""
   ]
  },
  {
   "cell_type": "markdown",
   "id": "985ea68d",
   "metadata": {},
   "source": []
  },
  {
   "cell_type": "code",
   "execution_count": 6,
   "id": "5281f238",
   "metadata": {},
   "outputs": [
    {
     "data": {
      "text/plain": [
       "['Привет!',\n",
       " 'Отправь,',\n",
       " 'пожалуйста,',\n",
       " 'письмо',\n",
       " 'нашим',\n",
       " 'коллегам:',\n",
       " 'vladamir@v.ru,',\n",
       " 'vladimir2@v.ru;',\n",
       " 'про',\n",
       " 'Оксану',\n",
       " 'и',\n",
       " 'Ольгу',\n",
       " 'не',\n",
       " 'забудь:',\n",
       " 'oksana@v.ru,olga@v.ru',\n",
       " 'отошли',\n",
       " 'копию',\n",
       " 'партнерам:',\n",
       " 'adidas@das.ru',\n",
       " '&nike@ne.ki',\n",
       " 'спасибо!',\n",
       " '@@твой',\n",
       " 'босс']"
      ]
     },
     "execution_count": 6,
     "metadata": {},
     "output_type": "execute_result"
    }
   ],
   "source": [
    "li = text.split()\n",
    "li "
   ]
  },
  {
   "cell_type": "code",
   "execution_count": 8,
   "id": "38a793a3",
   "metadata": {},
   "outputs": [
    {
     "data": {
      "text/plain": [
       "['vladamir@v.ru,',\n",
       " 'vladimir2@v.ru;',\n",
       " 'oksana@v.ru,olga@v.ru',\n",
       " 'adidas@das.ru',\n",
       " '&nike@ne.ki',\n",
       " '@@твой']"
      ]
     },
     "execution_count": 8,
     "metadata": {},
     "output_type": "execute_result"
    }
   ],
   "source": [
    "li = [n for n in li if \"@\" in n] # отфильтровали список так, чтобы в нем остались слова, которые хранят знак @\n",
    "li "
   ]
  },
  {
   "cell_type": "markdown",
   "id": "e9af0911",
   "metadata": {},
   "source": [
    "Функция, требующая два основных док-та, шаблон и некоторый текст.\n",
    "Данная функция заключается в том, что ищет слова, подходящие под шаблон в тексте."
   ]
  },
  {
   "cell_type": "code",
   "execution_count": 9,
   "id": "0de62e48",
   "metadata": {},
   "outputs": [
    {
     "data": {
      "text/plain": [
       "['vladamir', 'vladimir']"
      ]
     },
     "execution_count": 9,
     "metadata": {},
     "output_type": "execute_result"
    }
   ],
   "source": [
    "re.findall(\"vlad.mir\", text)"
   ]
  },
  {
   "cell_type": "markdown",
   "id": "7958ed32",
   "metadata": {},
   "source": [
    "\"\\w+\" - включает любой символ, букву, которые повторяются один или больше раз "
   ]
  },
  {
   "cell_type": "code",
   "execution_count": 10,
   "id": "5eb35984",
   "metadata": {},
   "outputs": [
    {
     "data": {
      "text/plain": [
       "['Привет',\n",
       " 'Отправь',\n",
       " 'пожалуйста',\n",
       " 'письмо',\n",
       " 'нашим',\n",
       " 'коллегам',\n",
       " 'vladamir',\n",
       " 'v',\n",
       " 'ru',\n",
       " 'vladimir2',\n",
       " 'v',\n",
       " 'ru',\n",
       " 'про',\n",
       " 'Оксану',\n",
       " 'и',\n",
       " 'Ольгу',\n",
       " 'не',\n",
       " 'забудь',\n",
       " 'oksana',\n",
       " 'v',\n",
       " 'ru',\n",
       " 'olga',\n",
       " 'v',\n",
       " 'ru',\n",
       " 'отошли',\n",
       " 'копию',\n",
       " 'партнерам',\n",
       " 'adidas',\n",
       " 'das',\n",
       " 'ru',\n",
       " 'nike',\n",
       " 'ne',\n",
       " 'ki',\n",
       " 'спасибо',\n",
       " 'твой',\n",
       " 'босс']"
      ]
     },
     "execution_count": 10,
     "metadata": {},
     "output_type": "execute_result"
    }
   ],
   "source": [
    "re.findall(\"\\w+\", text)"
   ]
  },
  {
   "cell_type": "markdown",
   "id": "4491ca21",
   "metadata": {},
   "source": [
    "\\w+@ - адрес пользователя\n",
    "\\w\\. \\w+ - доменное имя"
   ]
  },
  {
   "cell_type": "code",
   "execution_count": 12,
   "id": "0c3e16fb",
   "metadata": {
    "scrolled": true
   },
   "outputs": [
    {
     "data": {
      "text/plain": [
       "[]"
      ]
     },
     "execution_count": 12,
     "metadata": {},
     "output_type": "execute_result"
    }
   ],
   "source": [
    "re.findall(\"\\w+@\\w+\\. \\w+\", text)"
   ]
  },
  {
   "cell_type": "code",
   "execution_count": 16,
   "id": "17a54153",
   "metadata": {},
   "outputs": [
    {
     "data": {
      "text/plain": [
       "['vladamir@v.ru',\n",
       " 'vladimir2@v.ru',\n",
       " 'oksana@v.ru',\n",
       " 'olga@v.ru',\n",
       " 'adidas@das.ru',\n",
       " 'nike@ne.ki']"
      ]
     },
     "execution_count": 16,
     "metadata": {},
     "output_type": "execute_result"
    }
   ],
   "source": [
    "li = re.findall(\"\\w+@\\w+\\.\\w+\", text)\n",
    "li "
   ]
  },
  {
   "cell_type": "markdown",
   "id": "18020d61",
   "metadata": {},
   "source": [
    "# Простейшие шаблоны"
   ]
  },
  {
   "cell_type": "code",
   "execution_count": 17,
   "id": "cebccbfc",
   "metadata": {},
   "outputs": [],
   "source": [
    "s = \"\"\"\n",
    "По предварительным данным, абсолютный рекорд 2008 года в масштабах страны также не был побит. Тогда в крупных городах за игрой сборной России в полуфинале чемпионата Европы следили 16,4 млн жителей крупных городов (55,1% всего населения и 70,5% от всех, кто вообще смотрел телевизор).\n",
    "\n",
    "Несмотря на то что результаты 2008 года остаются непревзойденными, нынешний чемпионат собрал колоссальную телеаудиторию, отметил директор Института современных медиа Кирилл Танаев. Просто, объясняет эксперт, за эти десять лет кардинально изменилось само медиапотребление. В 2008-м исполнился всего год с начала массовых продаж первого айфона, а айпады еще вовсе не существовали, сегодня же просмотр контента, в том числе спортивного, с мобильных устройств — норма, напомнил Танаев. 20k8\n",
    "\n",
    "В мае-2008 года интернетом хотя бы раз в месяц пользовались 25 млн человек старше 12 лет, проживающих в крупных городах, по данным Mediascope. Через десять лет, в мае 2018 года (последние доступные данные), таковых было уже 50,5 млн человек. Сейчас в крупных городах для выхода в интернет смартфонами пользуются 78% от всех российских пользователей интернета, планшетами — 28%, кнопочными сотовыми телефонами — только 3% (один и тот же человек может использовать сразу несколько устройств). В 2008 году была информация только по сотовым телефонам — раз в месяц для выхода в интернет их использовали лишь 27% интернет-пользователей.\n",
    "\n",
    "В этом году онлайн-трансляции всех матчей чемпионата на своих сайтах ведут ВГТРК, «Матч ТВ» и «Первый канал». Видеоплеер последнего установлен также на «Яндексе». Аудитория онлайн-трансляций пока не подсчитана. Но по данным проведенного Mediascope специального телефонного опроса, четвертьфинал Россия — Хорватия по телевизору смотрели 80% респондентов, на других экранах — 22% (возможно несколько вариантов ответа).\n",
    "\n",
    "\"\"\""
   ]
  },
  {
   "cell_type": "markdown",
   "id": "42038c6d",
   "metadata": {},
   "source": [
    "Извлечь из текста все года, которые заканчиваются на 8."
   ]
  },
  {
   "cell_type": "code",
   "execution_count": 18,
   "id": "a4a7a62b",
   "metadata": {},
   "outputs": [
    {
     "data": {
      "text/plain": [
       "['2008', '2008', '2008', '20k8', '2008', '2018', '2008']"
      ]
     },
     "execution_count": 18,
     "metadata": {},
     "output_type": "execute_result"
    }
   ],
   "source": [
    "re.findall(\"20.8\", s)"
   ]
  },
  {
   "cell_type": "code",
   "execution_count": 22,
   "id": "bb483028",
   "metadata": {},
   "outputs": [
    {
     "ename": "SyntaxError",
     "evalue": "unexpected character after line continuation character (Temp/ipykernel_11120/601701816.py, line 1)",
     "output_type": "error",
     "traceback": [
      "\u001b[1;36m  File \u001b[1;32m\"C:\\Users\\aleks\\AppData\\Local\\Temp/ipykernel_11120/601701816.py\"\u001b[1;36m, line \u001b[1;32m1\u001b[0m\n\u001b[1;33m    \\d - шаблон, заменяющий число\u001b[0m\n\u001b[1;37m                                ^\u001b[0m\n\u001b[1;31mSyntaxError\u001b[0m\u001b[1;31m:\u001b[0m unexpected character after line continuation character\n"
     ]
    }
   ],
   "source": [
    "\\d - шаблон, заменяющий число\n",
    "\\D - шаблон, отображающий слово, в котором есть что угодно, кроме цифры \n",
    "\\s - шаблон, который ищет любой пробельный символ\n",
    "\\S - шаблон, выводящий что угодно, кроме пробельного символа\n",
    "\\w = 0-9, a-z, A-Z, а-я, А-Я, _\n",
    "\\W = символы, например (, ? ! % $ # *)\n",
    "\\d+ - находит все числа в тексте"
   ]
  },
  {
   "cell_type": "code",
   "execution_count": 19,
   "id": "1ce0a064",
   "metadata": {},
   "outputs": [
    {
     "data": {
      "text/plain": [
       "['2008', '2008', '2008', '2008', '2018', '2008']"
      ]
     },
     "execution_count": 19,
     "metadata": {},
     "output_type": "execute_result"
    }
   ],
   "source": [
    "re.findall(\"20\\d8\", s)"
   ]
  },
  {
   "cell_type": "code",
   "execution_count": 20,
   "id": "0c940980",
   "metadata": {},
   "outputs": [
    {
     "data": {
      "text/plain": [
       "['2008', '2008', '2008', '2008', '2018', '2008']"
      ]
     },
     "execution_count": 20,
     "metadata": {},
     "output_type": "execute_result"
    }
   ],
   "source": [
    "re.findall(\"20\\d8\", s)"
   ]
  },
  {
   "cell_type": "code",
   "execution_count": 21,
   "id": "1fceabee",
   "metadata": {},
   "outputs": [
    {
     "data": {
      "text/plain": [
       "['мае 2018']"
      ]
     },
     "execution_count": 21,
     "metadata": {},
     "output_type": "execute_result"
    }
   ],
   "source": [
    "re.findall(\"мае\\s20\\d8\", s)"
   ]
  },
  {
   "cell_type": "code",
   "execution_count": 23,
   "id": "ebd11856",
   "metadata": {},
   "outputs": [
    {
     "data": {
      "text/plain": [
       "['2008',\n",
       " '16',\n",
       " '4',\n",
       " '55',\n",
       " '1',\n",
       " '70',\n",
       " '5',\n",
       " '2008',\n",
       " '2008',\n",
       " '20',\n",
       " '8',\n",
       " '2008',\n",
       " '25',\n",
       " '12',\n",
       " '2018',\n",
       " '50',\n",
       " '5',\n",
       " '78',\n",
       " '28',\n",
       " '3',\n",
       " '2008',\n",
       " '27',\n",
       " '80',\n",
       " '22']"
      ]
     },
     "execution_count": 23,
     "metadata": {},
     "output_type": "execute_result"
    }
   ],
   "source": [
    "re.findall(\"\\d+\", s)"
   ]
  },
  {
   "cell_type": "code",
   "execution_count": null,
   "id": "eed08bd6",
   "metadata": {},
   "outputs": [],
   "source": []
  }
 ],
 "metadata": {
  "kernelspec": {
   "display_name": "Python 3 (ipykernel)",
   "language": "python",
   "name": "python3"
  },
  "language_info": {
   "codemirror_mode": {
    "name": "ipython",
    "version": 3
   },
   "file_extension": ".py",
   "mimetype": "text/x-python",
   "name": "python",
   "nbconvert_exporter": "python",
   "pygments_lexer": "ipython3",
   "version": "3.10.0"
  }
 },
 "nbformat": 4,
 "nbformat_minor": 5
}
