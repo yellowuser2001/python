{
 "cells": [
  {
   "cell_type": "markdown",
   "id": "fca9de33",
   "metadata": {},
   "source": [
    "# Регулярные выражения"
   ]
  },
  {
   "cell_type": "markdown",
   "id": "cd41cb84",
   "metadata": {},
   "source": [
    "Для работы с регулярными выражениями используется модуль \"re\""
   ]
  },
  {
   "cell_type": "code",
   "execution_count": 4,
   "id": "e3adfdfc",
   "metadata": {},
   "outputs": [],
   "source": [
    "import re\n",
    "\n",
    "text = \"\"\"\n",
    "    Привет! Отправь, пожалуйста, письмо\n",
    "    нашим коллегам: vladamir@v.ru, vladimir2@v.ru;\n",
    "    про Оксану и Ольгу не забудь: oksana@v.ru,olga@v.ru\n",
    "\n",
    "    отошли копию партнерам: adidas@das.ru &nike@ne.ki\n",
    "\n",
    "    спасибо! @@твой босс\n",
    "\"\"\""
   ]
  },
  {
   "cell_type": "markdown",
   "id": "e96c5435",
   "metadata": {},
   "source": []
  },
  {
   "cell_type": "code",
   "execution_count": 6,
   "id": "086347ce",
   "metadata": {},
   "outputs": [
    {
     "data": {
      "text/plain": [
       "['Привет!',\n",
       " 'Отправь,',\n",
       " 'пожалуйста,',\n",
       " 'письмо',\n",
       " 'нашим',\n",
       " 'коллегам:',\n",
       " 'vladamir@v.ru,',\n",
       " 'vladimir2@v.ru;',\n",
       " 'про',\n",
       " 'Оксану',\n",
       " 'и',\n",
       " 'Ольгу',\n",
       " 'не',\n",
       " 'забудь:',\n",
       " 'oksana@v.ru,olga@v.ru',\n",
       " 'отошли',\n",
       " 'копию',\n",
       " 'партнерам:',\n",
       " 'adidas@das.ru',\n",
       " '&nike@ne.ki',\n",
       " 'спасибо!',\n",
       " '@@твой',\n",
       " 'босс']"
      ]
     },
     "execution_count": 6,
     "metadata": {},
     "output_type": "execute_result"
    }
   ],
   "source": [
    "li = text.split()\n",
    "li "
   ]
  },
  {
   "cell_type": "code",
   "execution_count": 8,
   "id": "8cf1e242",
   "metadata": {},
   "outputs": [
    {
     "data": {
      "text/plain": [
       "['vladamir@v.ru,',\n",
       " 'vladimir2@v.ru;',\n",
       " 'oksana@v.ru,olga@v.ru',\n",
       " 'adidas@das.ru',\n",
       " '&nike@ne.ki',\n",
       " '@@твой']"
      ]
     },
     "execution_count": 8,
     "metadata": {},
     "output_type": "execute_result"
    }
   ],
   "source": [
    "li = [n for n in li if \"@\" in n] # отфильтровали список так, чтобы в нем остались слова, которые хранят знак @\n",
    "li "
   ]
  },
  {
   "cell_type": "markdown",
   "id": "4b6dabe5",
   "metadata": {},
   "source": [
    "Функция, требующая два основных док-та, шаблон и некоторый текст.\n",
    "Данная функция заключается в том, что ищет слова, подходящие под шаблон в тексте."
   ]
  },
  {
   "cell_type": "code",
   "execution_count": 9,
   "id": "6b29ff3d",
   "metadata": {},
   "outputs": [
    {
     "data": {
      "text/plain": [
       "['vladamir', 'vladimir']"
      ]
     },
     "execution_count": 9,
     "metadata": {},
     "output_type": "execute_result"
    }
   ],
   "source": [
    "re.findall(\"vlad.mir\", text)"
   ]
  },
  {
   "cell_type": "markdown",
   "id": "552443af",
   "metadata": {},
   "source": [
    "\"\\w+\" - включает любой символ, букву, которые повторяются один или больше раз "
   ]
  },
  {
   "cell_type": "code",
   "execution_count": 10,
   "id": "ad6409da",
   "metadata": {},
   "outputs": [
    {
     "data": {
      "text/plain": [
       "['Привет',\n",
       " 'Отправь',\n",
       " 'пожалуйста',\n",
       " 'письмо',\n",
       " 'нашим',\n",
       " 'коллегам',\n",
       " 'vladamir',\n",
       " 'v',\n",
       " 'ru',\n",
       " 'vladimir2',\n",
       " 'v',\n",
       " 'ru',\n",
       " 'про',\n",
       " 'Оксану',\n",
       " 'и',\n",
       " 'Ольгу',\n",
       " 'не',\n",
       " 'забудь',\n",
       " 'oksana',\n",
       " 'v',\n",
       " 'ru',\n",
       " 'olga',\n",
       " 'v',\n",
       " 'ru',\n",
       " 'отошли',\n",
       " 'копию',\n",
       " 'партнерам',\n",
       " 'adidas',\n",
       " 'das',\n",
       " 'ru',\n",
       " 'nike',\n",
       " 'ne',\n",
       " 'ki',\n",
       " 'спасибо',\n",
       " 'твой',\n",
       " 'босс']"
      ]
     },
     "execution_count": 10,
     "metadata": {},
     "output_type": "execute_result"
    }
   ],
   "source": [
    "re.findall(\"\\w+\", text)"
   ]
  },
  {
   "cell_type": "markdown",
   "id": "7d91099f",
   "metadata": {},
   "source": [
    "\\w+@ - адрес пользователя\n",
    "\\w\\. \\w+ - доменное имя"
   ]
  },
  {
   "cell_type": "code",
   "execution_count": 12,
   "id": "7545c2fa",
   "metadata": {
    "scrolled": true
   },
   "outputs": [
    {
     "data": {
      "text/plain": [
       "[]"
      ]
     },
     "execution_count": 12,
     "metadata": {},
     "output_type": "execute_result"
    }
   ],
   "source": [
    "re.findall(\"\\w+@\\w+\\. \\w+\", text)"
   ]
  },
  {
   "cell_type": "code",
   "execution_count": 16,
   "id": "6e1d0603",
   "metadata": {},
   "outputs": [
    {
     "data": {
      "text/plain": [
       "['vladamir@v.ru',\n",
       " 'vladimir2@v.ru',\n",
       " 'oksana@v.ru',\n",
       " 'olga@v.ru',\n",
       " 'adidas@das.ru',\n",
       " 'nike@ne.ki']"
      ]
     },
     "execution_count": 16,
     "metadata": {},
     "output_type": "execute_result"
    }
   ],
   "source": [
    "li = re.findall(\"\\w+@\\w+\\.\\w+\", text)\n",
    "li "
   ]
  },
  {
   "cell_type": "code",
   "execution_count": null,
   "id": "aac4327e",
   "metadata": {},
   "outputs": [],
   "source": []
  }
 ],
 "metadata": {
  "kernelspec": {
   "display_name": "Python 3 (ipykernel)",
   "language": "python",
   "name": "python3"
  },
  "language_info": {
   "codemirror_mode": {
    "name": "ipython",
    "version": 3
   },
   "file_extension": ".py",
   "mimetype": "text/x-python",
   "name": "python",
   "nbconvert_exporter": "python",
   "pygments_lexer": "ipython3",
   "version": "3.10.0"
  }
 },
 "nbformat": 4,
 "nbformat_minor": 5
}
